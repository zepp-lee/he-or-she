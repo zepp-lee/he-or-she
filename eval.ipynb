{
 "cells": [
  {
   "cell_type": "code",
   "execution_count": 1,
   "metadata": {},
   "outputs": [],
   "source": [
    "import json\n",
    "\n",
    "from sklearn.dummy import DummyClassifier\n",
    "from sklearn.ensemble import GradientBoostingClassifier\n",
    "from sklearn.feature_extraction.text import TfidfVectorizer\n",
    "from sklearn.model_selection import cross_validate, KFold\n",
    "from sklearn.naive_bayes import MultinomialNB\n",
    "from sklearn.pipeline import Pipeline\n",
    "from sklearn.utils import Bunch"
   ]
  },
  {
   "cell_type": "markdown",
   "metadata": {},
   "source": [
    "### Define dataset loader & classifiers"
   ]
  },
  {
   "cell_type": "code",
   "execution_count": 2,
   "metadata": {},
   "outputs": [],
   "source": [
    "def load_articles(return_X_y=False):\n",
    "    \"\"\"https://scikit-learn.org/stable/datasets/index.html#general-dataset-api\"\"\"\n",
    "    with open('data/nytimes_articles.json') as articles_fp:\n",
    "        articles = list(filter(lambda a: a['author_gender'] != 'unclear', json.load(articles_fp)))\n",
    "        data=[f\"{a['headline']} {a['summary']}\" for a in articles]\n",
    "        target=[a['author_gender'] for a in articles]\n",
    "        return (data, target) if return_X_y else Bunch(data=data, target=target)\n",
    "\n",
    "\n",
    "class HeOrSheBaselineClassifier(DummyClassifier):\n",
    "    def __init__(self):\n",
    "        super().__init__(strategy='constant', constant='male')\n",
    "\n",
    "\n",
    "class HeOrSheMultinomialNBClassifier(Pipeline):\n",
    "    def __init__(self):\n",
    "        super().__init__([\n",
    "            ('tfidf', TfidfVectorizer()),\n",
    "            ('clf', MultinomialNB()),\n",
    "        ])\n",
    "\n",
    "\n",
    "class HeOrSheGradientBoostingClassifier(Pipeline):\n",
    "    def __init__(self):\n",
    "        super().__init__([\n",
    "            ('tfidf', TfidfVectorizer()),\n",
    "            ('clf', GradientBoostingClassifier(n_estimators=100, learning_rate=1.0, max_depth=1, random_state=0)),    # default hyperparameters from scikit-learn docs\n",
    "        ])"
   ]
  },
  {
   "cell_type": "markdown",
   "metadata": {},
   "source": [
    "### Load the data"
   ]
  },
  {
   "cell_type": "code",
   "execution_count": 3,
   "metadata": {},
   "outputs": [
    {
     "name": "stdout",
     "output_type": "stream",
     "text": [
      "Male-to-female ratio: 151372 / 60268\n"
     ]
    }
   ],
   "source": [
    "X, y = load_articles(return_X_y=True)\n",
    "print(f\"Male-to-female ratio: {y.count('male')} / {y.count('female')}\")"
   ]
  },
  {
   "cell_type": "markdown",
   "metadata": {},
   "source": [
    "### Instantiate the classifiers & set up evaluation"
   ]
  },
  {
   "cell_type": "code",
   "execution_count": 4,
   "metadata": {},
   "outputs": [],
   "source": [
    "bl_clf = HeOrSheBaselineClassifier()\n",
    "nb_clf = HeOrSheMultinomialNBClassifier()\n",
    "gb_clf = HeOrSheGradientBoostingClassifier()\n",
    "\n",
    "scoring = {\n",
    "    'acc': 'accuracy',\n",
    "    'f1': 'f1_macro',\n",
    "    'prec': 'precision_macro',\n",
    "    'rec': 'recall_macro',\n",
    "}\n",
    "k_fold = KFold(n_splits=5, shuffle=True, random_state=0)"
   ]
  },
  {
   "cell_type": "markdown",
   "metadata": {},
   "source": [
    "### Cross-validate the classifiers"
   ]
  },
  {
   "cell_type": "code",
   "execution_count": 5,
   "metadata": {},
   "outputs": [
    {
     "name": "stderr",
     "output_type": "stream",
     "text": [
      "/home/sebastian/venvs/he-or-she/lib/python3.7/site-packages/sklearn/metrics/classification.py:1437: UndefinedMetricWarning: F-score is ill-defined and being set to 0.0 in labels with no predicted samples.\n",
      "  'precision', 'predicted', average, warn_for)\n",
      "/home/sebastian/venvs/he-or-she/lib/python3.7/site-packages/sklearn/metrics/classification.py:1437: UndefinedMetricWarning: Precision is ill-defined and being set to 0.0 in labels with no predicted samples.\n",
      "  'precision', 'predicted', average, warn_for)\n"
     ]
    },
    {
     "name": "stdout",
     "output_type": "stream",
     "text": [
      "{\n",
      "    \"mean_fit_time\": 0.11309618949890136,\n",
      "    \"mean_score_time\": 0.39141201972961426,\n",
      "    \"mean_test_acc\": 0.7152334152334152,\n",
      "    \"mean_test_f1\": 0.4169883107611906,\n",
      "    \"mean_test_prec\": 0.3576167076167076,\n",
      "    \"mean_test_rec\": 0.5\n",
      "}\n",
      "{\n",
      "    \"mean_fit_time\": 6.643387746810913,\n",
      "    \"mean_score_time\": 6.8762530326843265,\n",
      "    \"mean_test_acc\": 0.7488045738045738,\n",
      "    \"mean_test_f1\": 0.5418942223810495,\n",
      "    \"mean_test_prec\": 0.8157115822711202,\n",
      "    \"mean_test_rec\": 0.5640267253071867\n",
      "}\n",
      "{\n",
      "    \"mean_fit_time\": 102.70812916755676,\n",
      "    \"mean_score_time\": 6.879893779754639,\n",
      "    \"mean_test_acc\": 0.7671801171801171,\n",
      "    \"mean_test_f1\": 0.6511777942815625,\n",
      "    \"mean_test_prec\": 0.7337284785417665,\n",
      "    \"mean_test_rec\": 0.63698100750024\n",
      "}\n"
     ]
    }
   ],
   "source": [
    "for clf in [bl_clf, nb_clf, gb_clf]:\n",
    "    scores = cross_validate(clf, X, y, scoring=scoring, cv=k_fold)\n",
    "    mean_scores = {f\"mean_{k}\": sum(v) / len(v) for k, v in scores.items()}\n",
    "    print(json.dumps(mean_scores, indent=4))"
   ]
  }
 ],
 "metadata": {
  "kernelspec": {
   "display_name": "he-or-she",
   "language": "python",
   "name": "he-or-she"
  },
  "language_info": {
   "codemirror_mode": {
    "name": "ipython",
    "version": 3
   },
   "file_extension": ".py",
   "mimetype": "text/x-python",
   "name": "python",
   "nbconvert_exporter": "python",
   "pygments_lexer": "ipython3",
   "version": "3.7.4"
  }
 },
 "nbformat": 4,
 "nbformat_minor": 4
}
